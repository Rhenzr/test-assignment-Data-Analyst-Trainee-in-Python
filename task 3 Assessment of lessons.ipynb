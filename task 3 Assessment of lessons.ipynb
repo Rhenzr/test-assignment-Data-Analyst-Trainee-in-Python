{
 "cells": [
  {
   "cell_type": "markdown",
   "metadata": {},
   "source": [
    "# Задача\n",
    "\n",
    "Нужно найти, какой из репетиторов получал самую низкую среднюю оценку качества после уроков по физике за каждый день, и вывести эту оценку."
   ]
  },
  {
   "cell_type": "code",
   "execution_count": 1,
   "metadata": {},
   "outputs": [],
   "source": [
    "import pandas as pd"
   ]
  },
  {
   "cell_type": "code",
   "execution_count": 2,
   "metadata": {},
   "outputs": [],
   "source": [
    "lessons = pd.read_csv('lessons.txt', engine='python', sep = '\\s*[|]\\s*', parse_dates = ['scheduled_time'], skiprows = [1],\n",
    "                     skipfooter = 2)"
   ]
  },
  {
   "cell_type": "code",
   "execution_count": 3,
   "metadata": {},
   "outputs": [
    {
     "data": {
      "text/html": [
       "<div>\n",
       "<style scoped>\n",
       "    .dataframe tbody tr th:only-of-type {\n",
       "        vertical-align: middle;\n",
       "    }\n",
       "\n",
       "    .dataframe tbody tr th {\n",
       "        vertical-align: top;\n",
       "    }\n",
       "\n",
       "    .dataframe thead th {\n",
       "        text-align: right;\n",
       "    }\n",
       "</style>\n",
       "<table border=\"1\" class=\"dataframe\">\n",
       "  <thead>\n",
       "    <tr style=\"text-align: right;\">\n",
       "      <th></th>\n",
       "      <th>id</th>\n",
       "      <th>event_id</th>\n",
       "      <th>subject</th>\n",
       "      <th>scheduled_time</th>\n",
       "    </tr>\n",
       "  </thead>\n",
       "  <tbody>\n",
       "    <tr>\n",
       "      <td>0</td>\n",
       "      <td>1e7bb408-cfef-4a9f-8328-351c9483a64c</td>\n",
       "      <td>38114</td>\n",
       "      <td>phys</td>\n",
       "      <td>2020-01-19 12:00:00</td>\n",
       "    </tr>\n",
       "    <tr>\n",
       "      <td>1</td>\n",
       "      <td>6d8e59d9-a7c8-4bb3-8ff3-99cd07acdf1a</td>\n",
       "      <td>51568</td>\n",
       "      <td>it</td>\n",
       "      <td>2020-01-19 13:00:00</td>\n",
       "    </tr>\n",
       "    <tr>\n",
       "      <td>2</td>\n",
       "      <td>62e1a078-33de-47c1-99d2-845b1daca56f</td>\n",
       "      <td>52790</td>\n",
       "      <td>hist</td>\n",
       "      <td>2020-01-19 13:00:00</td>\n",
       "    </tr>\n",
       "    <tr>\n",
       "      <td>3</td>\n",
       "      <td>00fc6685-f53a-49bb-b960-5e0042fd3852</td>\n",
       "      <td>51341</td>\n",
       "      <td>phys</td>\n",
       "      <td>2020-01-17 12:00:00</td>\n",
       "    </tr>\n",
       "    <tr>\n",
       "      <td>4</td>\n",
       "      <td>4cadf623-82e6-422f-a342-acf978302fb2</td>\n",
       "      <td>55048</td>\n",
       "      <td>phys</td>\n",
       "      <td>2020-01-19 14:00:00</td>\n",
       "    </tr>\n",
       "  </tbody>\n",
       "</table>\n",
       "</div>"
      ],
      "text/plain": [
       "                                     id  event_id subject      scheduled_time\n",
       "0  1e7bb408-cfef-4a9f-8328-351c9483a64c     38114    phys 2020-01-19 12:00:00\n",
       "1  6d8e59d9-a7c8-4bb3-8ff3-99cd07acdf1a     51568      it 2020-01-19 13:00:00\n",
       "2  62e1a078-33de-47c1-99d2-845b1daca56f     52790    hist 2020-01-19 13:00:00\n",
       "3  00fc6685-f53a-49bb-b960-5e0042fd3852     51341    phys 2020-01-17 12:00:00\n",
       "4  4cadf623-82e6-422f-a342-acf978302fb2     55048    phys 2020-01-19 14:00:00"
      ]
     },
     "execution_count": 3,
     "metadata": {},
     "output_type": "execute_result"
    }
   ],
   "source": [
    "lessons.head()"
   ]
  },
  {
   "cell_type": "code",
   "execution_count": 4,
   "metadata": {},
   "outputs": [],
   "source": [
    "participants = pd.read_csv('participants.txt', engine='python', sep = '\\s*[|]\\s*', skiprows = [1], skipfooter = 2)"
   ]
  },
  {
   "cell_type": "code",
   "execution_count": 5,
   "metadata": {
    "scrolled": false
   },
   "outputs": [
    {
     "data": {
      "text/html": [
       "<div>\n",
       "<style scoped>\n",
       "    .dataframe tbody tr th:only-of-type {\n",
       "        vertical-align: middle;\n",
       "    }\n",
       "\n",
       "    .dataframe tbody tr th {\n",
       "        vertical-align: top;\n",
       "    }\n",
       "\n",
       "    .dataframe thead th {\n",
       "        text-align: right;\n",
       "    }\n",
       "</style>\n",
       "<table border=\"1\" class=\"dataframe\">\n",
       "  <thead>\n",
       "    <tr style=\"text-align: right;\">\n",
       "      <th></th>\n",
       "      <th>event_id</th>\n",
       "      <th>user_id</th>\n",
       "    </tr>\n",
       "  </thead>\n",
       "  <tbody>\n",
       "    <tr>\n",
       "      <td>0</td>\n",
       "      <td>38114</td>\n",
       "      <td>e28351f5-4ccb-4549-8647-d43f2b15e7b8</td>\n",
       "    </tr>\n",
       "    <tr>\n",
       "      <td>1</td>\n",
       "      <td>38114</td>\n",
       "      <td>4df2832a-1d63-4453-9659-43993fc35996</td>\n",
       "    </tr>\n",
       "    <tr>\n",
       "      <td>2</td>\n",
       "      <td>51568</td>\n",
       "      <td>bb1c0bc8-1212-452b-97a0-439d4a2169e2</td>\n",
       "    </tr>\n",
       "    <tr>\n",
       "      <td>3</td>\n",
       "      <td>51568</td>\n",
       "      <td>63441abe-c4da-4275-ba26-66f7dbd65dde</td>\n",
       "    </tr>\n",
       "    <tr>\n",
       "      <td>4</td>\n",
       "      <td>52790</td>\n",
       "      <td>a1323b68-c82c-429a-8e2c-65597e648c1a</td>\n",
       "    </tr>\n",
       "  </tbody>\n",
       "</table>\n",
       "</div>"
      ],
      "text/plain": [
       "   event_id                               user_id\n",
       "0     38114  e28351f5-4ccb-4549-8647-d43f2b15e7b8\n",
       "1     38114  4df2832a-1d63-4453-9659-43993fc35996\n",
       "2     51568  bb1c0bc8-1212-452b-97a0-439d4a2169e2\n",
       "3     51568  63441abe-c4da-4275-ba26-66f7dbd65dde\n",
       "4     52790  a1323b68-c82c-429a-8e2c-65597e648c1a"
      ]
     },
     "execution_count": 5,
     "metadata": {},
     "output_type": "execute_result"
    }
   ],
   "source": [
    "participants.head()"
   ]
  },
  {
   "cell_type": "code",
   "execution_count": 6,
   "metadata": {},
   "outputs": [],
   "source": [
    "quality = pd.read_csv('quality.txt', engine='python', sep = '\\s*[|]\\s*', skiprows = [1], skipfooter = 2)"
   ]
  },
  {
   "cell_type": "code",
   "execution_count": 7,
   "metadata": {},
   "outputs": [
    {
     "data": {
      "text/html": [
       "<div>\n",
       "<style scoped>\n",
       "    .dataframe tbody tr th:only-of-type {\n",
       "        vertical-align: middle;\n",
       "    }\n",
       "\n",
       "    .dataframe tbody tr th {\n",
       "        vertical-align: top;\n",
       "    }\n",
       "\n",
       "    .dataframe thead th {\n",
       "        text-align: right;\n",
       "    }\n",
       "</style>\n",
       "<table border=\"1\" class=\"dataframe\">\n",
       "  <thead>\n",
       "    <tr style=\"text-align: right;\">\n",
       "      <th></th>\n",
       "      <th>lesson_id</th>\n",
       "      <th>tech_quality</th>\n",
       "    </tr>\n",
       "  </thead>\n",
       "  <tbody>\n",
       "    <tr>\n",
       "      <td>0</td>\n",
       "      <td>6d8e59d9-a7c8-4bb3-8ff3-99cd07acdf1a</td>\n",
       "      <td>5.0</td>\n",
       "    </tr>\n",
       "    <tr>\n",
       "      <td>1</td>\n",
       "      <td>62e1a078-33de-47c1-99d2-845b1daca56f</td>\n",
       "      <td>5.0</td>\n",
       "    </tr>\n",
       "    <tr>\n",
       "      <td>2</td>\n",
       "      <td>62e1a078-33de-47c1-99d2-845b1daca56f</td>\n",
       "      <td>5.0</td>\n",
       "    </tr>\n",
       "    <tr>\n",
       "      <td>3</td>\n",
       "      <td>00fc6685-f53a-49bb-b960-5e0042fd3852</td>\n",
       "      <td>5.0</td>\n",
       "    </tr>\n",
       "    <tr>\n",
       "      <td>4</td>\n",
       "      <td>00fc6685-f53a-49bb-b960-5e0042fd3852</td>\n",
       "      <td>5.0</td>\n",
       "    </tr>\n",
       "  </tbody>\n",
       "</table>\n",
       "</div>"
      ],
      "text/plain": [
       "                              lesson_id  tech_quality\n",
       "0  6d8e59d9-a7c8-4bb3-8ff3-99cd07acdf1a           5.0\n",
       "1  62e1a078-33de-47c1-99d2-845b1daca56f           5.0\n",
       "2  62e1a078-33de-47c1-99d2-845b1daca56f           5.0\n",
       "3  00fc6685-f53a-49bb-b960-5e0042fd3852           5.0\n",
       "4  00fc6685-f53a-49bb-b960-5e0042fd3852           5.0"
      ]
     },
     "execution_count": 7,
     "metadata": {},
     "output_type": "execute_result"
    }
   ],
   "source": [
    "quality.head()"
   ]
  },
  {
   "cell_type": "code",
   "execution_count": 8,
   "metadata": {},
   "outputs": [],
   "source": [
    "users = pd.read_csv('users.txt', engine='python', sep = '\\s*[|]\\s*', skiprows = [1], skipfooter = 2)"
   ]
  },
  {
   "cell_type": "code",
   "execution_count": 9,
   "metadata": {},
   "outputs": [
    {
     "data": {
      "text/html": [
       "<div>\n",
       "<style scoped>\n",
       "    .dataframe tbody tr th:only-of-type {\n",
       "        vertical-align: middle;\n",
       "    }\n",
       "\n",
       "    .dataframe tbody tr th {\n",
       "        vertical-align: top;\n",
       "    }\n",
       "\n",
       "    .dataframe thead th {\n",
       "        text-align: right;\n",
       "    }\n",
       "</style>\n",
       "<table border=\"1\" class=\"dataframe\">\n",
       "  <thead>\n",
       "    <tr style=\"text-align: right;\">\n",
       "      <th></th>\n",
       "      <th>id</th>\n",
       "      <th>role</th>\n",
       "    </tr>\n",
       "  </thead>\n",
       "  <tbody>\n",
       "    <tr>\n",
       "      <td>0</td>\n",
       "      <td>e28351f5-4ccb-4549-8647-d43f2b15e7b8</td>\n",
       "      <td>pupil</td>\n",
       "    </tr>\n",
       "    <tr>\n",
       "      <td>1</td>\n",
       "      <td>4df2832a-1d63-4453-9659-43993fc35996</td>\n",
       "      <td>tutor</td>\n",
       "    </tr>\n",
       "    <tr>\n",
       "      <td>2</td>\n",
       "      <td>bb1c0bc8-1212-452b-97a0-439d4a2169e2</td>\n",
       "      <td>pupil</td>\n",
       "    </tr>\n",
       "    <tr>\n",
       "      <td>3</td>\n",
       "      <td>63441abe-c4da-4275-ba26-66f7dbd65dde</td>\n",
       "      <td>tutor</td>\n",
       "    </tr>\n",
       "    <tr>\n",
       "      <td>4</td>\n",
       "      <td>a1323b68-c82c-429a-8e2c-65597e648c1a</td>\n",
       "      <td>tutor</td>\n",
       "    </tr>\n",
       "  </tbody>\n",
       "</table>\n",
       "</div>"
      ],
      "text/plain": [
       "                                     id   role\n",
       "0  e28351f5-4ccb-4549-8647-d43f2b15e7b8  pupil\n",
       "1  4df2832a-1d63-4453-9659-43993fc35996  tutor\n",
       "2  bb1c0bc8-1212-452b-97a0-439d4a2169e2  pupil\n",
       "3  63441abe-c4da-4275-ba26-66f7dbd65dde  tutor\n",
       "4  a1323b68-c82c-429a-8e2c-65597e648c1a  tutor"
      ]
     },
     "execution_count": 9,
     "metadata": {},
     "output_type": "execute_result"
    }
   ],
   "source": [
    "users.head()"
   ]
  },
  {
   "cell_type": "code",
   "execution_count": 10,
   "metadata": {},
   "outputs": [],
   "source": [
    "tutor_eventid = users[users.role == 'tutor'].merge(participants, left_on='id', right_on='user_id',\n",
    "                                              how='inner')[['user_id', 'event_id']]\n",
    "tutor_eventid.drop_duplicates(inplace=True)"
   ]
  },
  {
   "cell_type": "code",
   "execution_count": 11,
   "metadata": {},
   "outputs": [
    {
     "data": {
      "text/html": [
       "<div>\n",
       "<style scoped>\n",
       "    .dataframe tbody tr th:only-of-type {\n",
       "        vertical-align: middle;\n",
       "    }\n",
       "\n",
       "    .dataframe tbody tr th {\n",
       "        vertical-align: top;\n",
       "    }\n",
       "\n",
       "    .dataframe thead th {\n",
       "        text-align: right;\n",
       "    }\n",
       "</style>\n",
       "<table border=\"1\" class=\"dataframe\">\n",
       "  <thead>\n",
       "    <tr style=\"text-align: right;\">\n",
       "      <th></th>\n",
       "      <th>user_id</th>\n",
       "      <th>event_id</th>\n",
       "    </tr>\n",
       "  </thead>\n",
       "  <tbody>\n",
       "    <tr>\n",
       "      <td>0</td>\n",
       "      <td>4df2832a-1d63-4453-9659-43993fc35996</td>\n",
       "      <td>38114</td>\n",
       "    </tr>\n",
       "    <tr>\n",
       "      <td>1</td>\n",
       "      <td>4df2832a-1d63-4453-9659-43993fc35996</td>\n",
       "      <td>38111</td>\n",
       "    </tr>\n",
       "    <tr>\n",
       "      <td>2</td>\n",
       "      <td>4df2832a-1d63-4453-9659-43993fc35996</td>\n",
       "      <td>56195</td>\n",
       "    </tr>\n",
       "    <tr>\n",
       "      <td>3</td>\n",
       "      <td>4df2832a-1d63-4453-9659-43993fc35996</td>\n",
       "      <td>50880</td>\n",
       "    </tr>\n",
       "    <tr>\n",
       "      <td>5</td>\n",
       "      <td>4df2832a-1d63-4453-9659-43993fc35996</td>\n",
       "      <td>51450</td>\n",
       "    </tr>\n",
       "  </tbody>\n",
       "</table>\n",
       "</div>"
      ],
      "text/plain": [
       "                                user_id  event_id\n",
       "0  4df2832a-1d63-4453-9659-43993fc35996     38114\n",
       "1  4df2832a-1d63-4453-9659-43993fc35996     38111\n",
       "2  4df2832a-1d63-4453-9659-43993fc35996     56195\n",
       "3  4df2832a-1d63-4453-9659-43993fc35996     50880\n",
       "5  4df2832a-1d63-4453-9659-43993fc35996     51450"
      ]
     },
     "execution_count": 11,
     "metadata": {},
     "output_type": "execute_result"
    }
   ],
   "source": [
    "tutor_eventid.head()"
   ]
  },
  {
   "cell_type": "code",
   "execution_count": 12,
   "metadata": {},
   "outputs": [],
   "source": [
    "qual_less = quality.merge(lessons, left_on='lesson_id', right_on='id',\n",
    "                          how='inner')[['tech_quality', 'event_id', 'scheduled_time', 'subject']]\n",
    "qual_less = qual_less[qual_less.subject == 'phys'][['tech_quality', 'event_id', 'scheduled_time']]"
   ]
  },
  {
   "cell_type": "code",
   "execution_count": 13,
   "metadata": {},
   "outputs": [
    {
     "data": {
      "text/html": [
       "<div>\n",
       "<style scoped>\n",
       "    .dataframe tbody tr th:only-of-type {\n",
       "        vertical-align: middle;\n",
       "    }\n",
       "\n",
       "    .dataframe tbody tr th {\n",
       "        vertical-align: top;\n",
       "    }\n",
       "\n",
       "    .dataframe thead th {\n",
       "        text-align: right;\n",
       "    }\n",
       "</style>\n",
       "<table border=\"1\" class=\"dataframe\">\n",
       "  <thead>\n",
       "    <tr style=\"text-align: right;\">\n",
       "      <th></th>\n",
       "      <th>tech_quality</th>\n",
       "      <th>event_id</th>\n",
       "      <th>scheduled_time</th>\n",
       "    </tr>\n",
       "  </thead>\n",
       "  <tbody>\n",
       "    <tr>\n",
       "      <td>3</td>\n",
       "      <td>5.0</td>\n",
       "      <td>51341</td>\n",
       "      <td>2020-01-17 12:00:00</td>\n",
       "    </tr>\n",
       "    <tr>\n",
       "      <td>4</td>\n",
       "      <td>5.0</td>\n",
       "      <td>51341</td>\n",
       "      <td>2020-01-17 12:00:00</td>\n",
       "    </tr>\n",
       "    <tr>\n",
       "      <td>5</td>\n",
       "      <td>5.0</td>\n",
       "      <td>55048</td>\n",
       "      <td>2020-01-19 14:00:00</td>\n",
       "    </tr>\n",
       "    <tr>\n",
       "      <td>6</td>\n",
       "      <td>5.0</td>\n",
       "      <td>53026</td>\n",
       "      <td>2020-01-19 15:00:00</td>\n",
       "    </tr>\n",
       "    <tr>\n",
       "      <td>8</td>\n",
       "      <td>5.0</td>\n",
       "      <td>51645</td>\n",
       "      <td>2020-01-19 14:00:00</td>\n",
       "    </tr>\n",
       "  </tbody>\n",
       "</table>\n",
       "</div>"
      ],
      "text/plain": [
       "   tech_quality  event_id      scheduled_time\n",
       "3           5.0     51341 2020-01-17 12:00:00\n",
       "4           5.0     51341 2020-01-17 12:00:00\n",
       "5           5.0     55048 2020-01-19 14:00:00\n",
       "6           5.0     53026 2020-01-19 15:00:00\n",
       "8           5.0     51645 2020-01-19 14:00:00"
      ]
     },
     "execution_count": 13,
     "metadata": {},
     "output_type": "execute_result"
    }
   ],
   "source": [
    "qual_less.head()"
   ]
  },
  {
   "cell_type": "code",
   "execution_count": 14,
   "metadata": {},
   "outputs": [],
   "source": [
    "qual_time_tutor = qual_less.merge(tutor_eventid, left_on='event_id', right_on='event_id',\n",
    "                                   how='inner')[['tech_quality', 'scheduled_time', 'user_id']]\n",
    "qual_time_tutor.dropna(inplace=True)\n",
    "qual_time_tutor.sort_values(by='scheduled_time', inplace=True)"
   ]
  },
  {
   "cell_type": "code",
   "execution_count": 15,
   "metadata": {},
   "outputs": [
    {
     "data": {
      "text/html": [
       "<div>\n",
       "<style scoped>\n",
       "    .dataframe tbody tr th:only-of-type {\n",
       "        vertical-align: middle;\n",
       "    }\n",
       "\n",
       "    .dataframe tbody tr th {\n",
       "        vertical-align: top;\n",
       "    }\n",
       "\n",
       "    .dataframe thead th {\n",
       "        text-align: right;\n",
       "    }\n",
       "</style>\n",
       "<table border=\"1\" class=\"dataframe\">\n",
       "  <thead>\n",
       "    <tr style=\"text-align: right;\">\n",
       "      <th></th>\n",
       "      <th>tech_quality</th>\n",
       "      <th>scheduled_time</th>\n",
       "      <th>user_id</th>\n",
       "    </tr>\n",
       "  </thead>\n",
       "  <tbody>\n",
       "    <tr>\n",
       "      <td>41</td>\n",
       "      <td>5.0</td>\n",
       "      <td>2020-01-11 09:00:00</td>\n",
       "      <td>c0c073c8-cb9c-4ebc-ac13-472c06029591</td>\n",
       "    </tr>\n",
       "    <tr>\n",
       "      <td>32</td>\n",
       "      <td>5.0</td>\n",
       "      <td>2020-01-11 09:00:00</td>\n",
       "      <td>30a19496-bdaf-461c-abbc-2709ae520201</td>\n",
       "    </tr>\n",
       "    <tr>\n",
       "      <td>39</td>\n",
       "      <td>5.0</td>\n",
       "      <td>2020-01-11 10:00:00</td>\n",
       "      <td>43efce48-94b2-4412-857f-223d45969008</td>\n",
       "    </tr>\n",
       "    <tr>\n",
       "      <td>18</td>\n",
       "      <td>5.0</td>\n",
       "      <td>2020-01-11 11:00:00</td>\n",
       "      <td>43efce48-94b2-4412-857f-223d45969008</td>\n",
       "    </tr>\n",
       "    <tr>\n",
       "      <td>17</td>\n",
       "      <td>5.0</td>\n",
       "      <td>2020-01-11 11:00:00</td>\n",
       "      <td>43efce48-94b2-4412-857f-223d45969008</td>\n",
       "    </tr>\n",
       "    <tr>\n",
       "      <td>...</td>\n",
       "      <td>...</td>\n",
       "      <td>...</td>\n",
       "      <td>...</td>\n",
       "    </tr>\n",
       "    <tr>\n",
       "      <td>31</td>\n",
       "      <td>5.0</td>\n",
       "      <td>2020-01-20 15:00:00</td>\n",
       "      <td>b37ccae8-fc31-4ad8-8f55-ca855b23fbf6</td>\n",
       "    </tr>\n",
       "    <tr>\n",
       "      <td>53</td>\n",
       "      <td>5.0</td>\n",
       "      <td>2020-01-20 16:45:00</td>\n",
       "      <td>be676776-8366-4c71-8a35-d58014806eb5</td>\n",
       "    </tr>\n",
       "    <tr>\n",
       "      <td>52</td>\n",
       "      <td>5.0</td>\n",
       "      <td>2020-01-20 16:45:00</td>\n",
       "      <td>be676776-8366-4c71-8a35-d58014806eb5</td>\n",
       "    </tr>\n",
       "    <tr>\n",
       "      <td>6</td>\n",
       "      <td>5.0</td>\n",
       "      <td>2020-01-20 17:00:00</td>\n",
       "      <td>696c838e-c054-4e9f-a51a-50bf5660f364</td>\n",
       "    </tr>\n",
       "    <tr>\n",
       "      <td>43</td>\n",
       "      <td>5.0</td>\n",
       "      <td>2020-01-20 17:00:00</td>\n",
       "      <td>2fa2ab62-f1b0-4036-872f-bcfd9a8686ff</td>\n",
       "    </tr>\n",
       "  </tbody>\n",
       "</table>\n",
       "<p>182 rows × 3 columns</p>\n",
       "</div>"
      ],
      "text/plain": [
       "    tech_quality      scheduled_time                               user_id\n",
       "41           5.0 2020-01-11 09:00:00  c0c073c8-cb9c-4ebc-ac13-472c06029591\n",
       "32           5.0 2020-01-11 09:00:00  30a19496-bdaf-461c-abbc-2709ae520201\n",
       "39           5.0 2020-01-11 10:00:00  43efce48-94b2-4412-857f-223d45969008\n",
       "18           5.0 2020-01-11 11:00:00  43efce48-94b2-4412-857f-223d45969008\n",
       "17           5.0 2020-01-11 11:00:00  43efce48-94b2-4412-857f-223d45969008\n",
       "..           ...                 ...                                   ...\n",
       "31           5.0 2020-01-20 15:00:00  b37ccae8-fc31-4ad8-8f55-ca855b23fbf6\n",
       "53           5.0 2020-01-20 16:45:00  be676776-8366-4c71-8a35-d58014806eb5\n",
       "52           5.0 2020-01-20 16:45:00  be676776-8366-4c71-8a35-d58014806eb5\n",
       "6            5.0 2020-01-20 17:00:00  696c838e-c054-4e9f-a51a-50bf5660f364\n",
       "43           5.0 2020-01-20 17:00:00  2fa2ab62-f1b0-4036-872f-bcfd9a8686ff\n",
       "\n",
       "[182 rows x 3 columns]"
      ]
     },
     "execution_count": 15,
     "metadata": {},
     "output_type": "execute_result"
    }
   ],
   "source": [
    "qual_time_tutor"
   ]
  },
  {
   "cell_type": "code",
   "execution_count": 16,
   "metadata": {},
   "outputs": [],
   "source": [
    "qual_time_tutor['scheduled_time'] += pd.Timedelta('3 hours')\n",
    "qual_time_tutor['scheduled_time'] = qual_time_tutor['scheduled_time'].map(lambda x: x.date())"
   ]
  },
  {
   "cell_type": "code",
   "execution_count": 17,
   "metadata": {},
   "outputs": [
    {
     "data": {
      "text/html": [
       "<div>\n",
       "<style scoped>\n",
       "    .dataframe tbody tr th:only-of-type {\n",
       "        vertical-align: middle;\n",
       "    }\n",
       "\n",
       "    .dataframe tbody tr th {\n",
       "        vertical-align: top;\n",
       "    }\n",
       "\n",
       "    .dataframe thead th {\n",
       "        text-align: right;\n",
       "    }\n",
       "</style>\n",
       "<table border=\"1\" class=\"dataframe\">\n",
       "  <thead>\n",
       "    <tr style=\"text-align: right;\">\n",
       "      <th></th>\n",
       "      <th>tech_quality</th>\n",
       "      <th>scheduled_time</th>\n",
       "      <th>user_id</th>\n",
       "    </tr>\n",
       "  </thead>\n",
       "  <tbody>\n",
       "    <tr>\n",
       "      <td>41</td>\n",
       "      <td>5.0</td>\n",
       "      <td>2020-01-11</td>\n",
       "      <td>c0c073c8-cb9c-4ebc-ac13-472c06029591</td>\n",
       "    </tr>\n",
       "    <tr>\n",
       "      <td>32</td>\n",
       "      <td>5.0</td>\n",
       "      <td>2020-01-11</td>\n",
       "      <td>30a19496-bdaf-461c-abbc-2709ae520201</td>\n",
       "    </tr>\n",
       "    <tr>\n",
       "      <td>39</td>\n",
       "      <td>5.0</td>\n",
       "      <td>2020-01-11</td>\n",
       "      <td>43efce48-94b2-4412-857f-223d45969008</td>\n",
       "    </tr>\n",
       "    <tr>\n",
       "      <td>18</td>\n",
       "      <td>5.0</td>\n",
       "      <td>2020-01-11</td>\n",
       "      <td>43efce48-94b2-4412-857f-223d45969008</td>\n",
       "    </tr>\n",
       "    <tr>\n",
       "      <td>17</td>\n",
       "      <td>5.0</td>\n",
       "      <td>2020-01-11</td>\n",
       "      <td>43efce48-94b2-4412-857f-223d45969008</td>\n",
       "    </tr>\n",
       "    <tr>\n",
       "      <td>...</td>\n",
       "      <td>...</td>\n",
       "      <td>...</td>\n",
       "      <td>...</td>\n",
       "    </tr>\n",
       "    <tr>\n",
       "      <td>31</td>\n",
       "      <td>5.0</td>\n",
       "      <td>2020-01-20</td>\n",
       "      <td>b37ccae8-fc31-4ad8-8f55-ca855b23fbf6</td>\n",
       "    </tr>\n",
       "    <tr>\n",
       "      <td>53</td>\n",
       "      <td>5.0</td>\n",
       "      <td>2020-01-20</td>\n",
       "      <td>be676776-8366-4c71-8a35-d58014806eb5</td>\n",
       "    </tr>\n",
       "    <tr>\n",
       "      <td>52</td>\n",
       "      <td>5.0</td>\n",
       "      <td>2020-01-20</td>\n",
       "      <td>be676776-8366-4c71-8a35-d58014806eb5</td>\n",
       "    </tr>\n",
       "    <tr>\n",
       "      <td>6</td>\n",
       "      <td>5.0</td>\n",
       "      <td>2020-01-20</td>\n",
       "      <td>696c838e-c054-4e9f-a51a-50bf5660f364</td>\n",
       "    </tr>\n",
       "    <tr>\n",
       "      <td>43</td>\n",
       "      <td>5.0</td>\n",
       "      <td>2020-01-20</td>\n",
       "      <td>2fa2ab62-f1b0-4036-872f-bcfd9a8686ff</td>\n",
       "    </tr>\n",
       "  </tbody>\n",
       "</table>\n",
       "<p>182 rows × 3 columns</p>\n",
       "</div>"
      ],
      "text/plain": [
       "    tech_quality scheduled_time                               user_id\n",
       "41           5.0     2020-01-11  c0c073c8-cb9c-4ebc-ac13-472c06029591\n",
       "32           5.0     2020-01-11  30a19496-bdaf-461c-abbc-2709ae520201\n",
       "39           5.0     2020-01-11  43efce48-94b2-4412-857f-223d45969008\n",
       "18           5.0     2020-01-11  43efce48-94b2-4412-857f-223d45969008\n",
       "17           5.0     2020-01-11  43efce48-94b2-4412-857f-223d45969008\n",
       "..           ...            ...                                   ...\n",
       "31           5.0     2020-01-20  b37ccae8-fc31-4ad8-8f55-ca855b23fbf6\n",
       "53           5.0     2020-01-20  be676776-8366-4c71-8a35-d58014806eb5\n",
       "52           5.0     2020-01-20  be676776-8366-4c71-8a35-d58014806eb5\n",
       "6            5.0     2020-01-20  696c838e-c054-4e9f-a51a-50bf5660f364\n",
       "43           5.0     2020-01-20  2fa2ab62-f1b0-4036-872f-bcfd9a8686ff\n",
       "\n",
       "[182 rows x 3 columns]"
      ]
     },
     "execution_count": 17,
     "metadata": {},
     "output_type": "execute_result"
    }
   ],
   "source": [
    "qual_time_tutor"
   ]
  },
  {
   "cell_type": "code",
   "execution_count": 18,
   "metadata": {},
   "outputs": [],
   "source": [
    "answer = qual_time_tutor.groupby(['scheduled_time', 'user_id']).mean().sort_values('tech_quality')"
   ]
  },
  {
   "cell_type": "code",
   "execution_count": 19,
   "metadata": {},
   "outputs": [
    {
     "data": {
      "text/html": [
       "<div>\n",
       "<style scoped>\n",
       "    .dataframe tbody tr th:only-of-type {\n",
       "        vertical-align: middle;\n",
       "    }\n",
       "\n",
       "    .dataframe tbody tr th {\n",
       "        vertical-align: top;\n",
       "    }\n",
       "\n",
       "    .dataframe thead th {\n",
       "        text-align: right;\n",
       "    }\n",
       "</style>\n",
       "<table border=\"1\" class=\"dataframe\">\n",
       "  <thead>\n",
       "    <tr style=\"text-align: right;\">\n",
       "      <th></th>\n",
       "      <th></th>\n",
       "      <th>tech_quality</th>\n",
       "    </tr>\n",
       "    <tr>\n",
       "      <th>scheduled_time</th>\n",
       "      <th>user_id</th>\n",
       "      <th></th>\n",
       "    </tr>\n",
       "  </thead>\n",
       "  <tbody>\n",
       "    <tr>\n",
       "      <td>2020-01-16</td>\n",
       "      <td>2fa2ab62-f1b0-4036-872f-bcfd9a8686ff</td>\n",
       "      <td>4.000000</td>\n",
       "    </tr>\n",
       "    <tr>\n",
       "      <td>2020-01-14</td>\n",
       "      <td>c6718d0e-976c-4d6c-b0e0-32c770776567</td>\n",
       "      <td>4.000000</td>\n",
       "    </tr>\n",
       "    <tr>\n",
       "      <td>2020-01-18</td>\n",
       "      <td>43efce48-94b2-4412-857f-223d45969008</td>\n",
       "      <td>4.250000</td>\n",
       "    </tr>\n",
       "    <tr>\n",
       "      <td>2020-01-11</td>\n",
       "      <td>8fe03f08-8581-430c-a590-9888ab36deb3</td>\n",
       "      <td>4.428571</td>\n",
       "    </tr>\n",
       "    <tr>\n",
       "      <td>2020-01-20</td>\n",
       "      <td>43efce48-94b2-4412-857f-223d45969008</td>\n",
       "      <td>4.500000</td>\n",
       "    </tr>\n",
       "  </tbody>\n",
       "</table>\n",
       "</div>"
      ],
      "text/plain": [
       "                                                     tech_quality\n",
       "scheduled_time user_id                                           \n",
       "2020-01-16     2fa2ab62-f1b0-4036-872f-bcfd9a8686ff      4.000000\n",
       "2020-01-14     c6718d0e-976c-4d6c-b0e0-32c770776567      4.000000\n",
       "2020-01-18     43efce48-94b2-4412-857f-223d45969008      4.250000\n",
       "2020-01-11     8fe03f08-8581-430c-a590-9888ab36deb3      4.428571\n",
       "2020-01-20     43efce48-94b2-4412-857f-223d45969008      4.500000"
      ]
     },
     "execution_count": 19,
     "metadata": {},
     "output_type": "execute_result"
    }
   ],
   "source": [
    "answer.head(5)"
   ]
  },
  {
   "cell_type": "code",
   "execution_count": 20,
   "metadata": {},
   "outputs": [
    {
     "data": {
      "text/plain": [
       "('2fa2ab62-f1b0-4036-872f-bcfd9a8686ff', 4.0)"
      ]
     },
     "execution_count": 20,
     "metadata": {},
     "output_type": "execute_result"
    }
   ],
   "source": [
    "answer.index[0][1], answer.tech_quality[0]"
   ]
  },
  {
   "cell_type": "code",
   "execution_count": null,
   "metadata": {},
   "outputs": [],
   "source": []
  }
 ],
 "metadata": {
  "kernelspec": {
   "display_name": "Python 3",
   "language": "python",
   "name": "python3"
  },
  "language_info": {
   "codemirror_mode": {
    "name": "ipython",
    "version": 3
   },
   "file_extension": ".py",
   "mimetype": "text/x-python",
   "name": "python",
   "nbconvert_exporter": "python",
   "pygments_lexer": "ipython3",
   "version": "3.7.4"
  }
 },
 "nbformat": 4,
 "nbformat_minor": 2
}
