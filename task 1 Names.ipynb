{
 "cells": [
  {
   "cell_type": "markdown",
   "metadata": {},
   "source": [
    "# Задача\n",
    "\n",
    "Нужно выполнить следующие действия и вывести результат вычислений:\n",
    "\n",
    "1. Отсортировать все имена в лексикографическом порядке.\n",
    "2. Посчитать для каждого имени алфавитную сумму – сумму порядковых номеров букв (MAY: 13 + 1 + 25 = 39).\n",
    "3. Умножить алфавитную сумму каждого имени на порядковый номер имени в отсортированном списке (индексация начинается с 1). Например, если MAY находится на 63 месте в списке, то результат для него будет 63 * 39 = 2457.\n",
    "4. Сложить произведения из п. 3 для всех имен из файла и получить число.\n",
    "5. Вывести полученную сумму."
   ]
  },
  {
   "cell_type": "code",
   "execution_count": 18,
   "metadata": {},
   "outputs": [],
   "source": [
    "import pandas as pd\n",
    "import string"
   ]
  },
  {
   "cell_type": "code",
   "execution_count": 3,
   "metadata": {},
   "outputs": [],
   "source": [
    "data = pd.read_csv('names.txt')"
   ]
  },
  {
   "cell_type": "code",
   "execution_count": 4,
   "metadata": {},
   "outputs": [
    {
     "data": {
      "text/html": [
       "<div>\n",
       "<style scoped>\n",
       "    .dataframe tbody tr th:only-of-type {\n",
       "        vertical-align: middle;\n",
       "    }\n",
       "\n",
       "    .dataframe tbody tr th {\n",
       "        vertical-align: top;\n",
       "    }\n",
       "\n",
       "    .dataframe thead th {\n",
       "        text-align: right;\n",
       "    }\n",
       "</style>\n",
       "<table border=\"1\" class=\"dataframe\">\n",
       "  <thead>\n",
       "    <tr style=\"text-align: right;\">\n",
       "      <th></th>\n",
       "      <th>MARY</th>\n",
       "      <th>PATRICIA</th>\n",
       "      <th>LINDA</th>\n",
       "      <th>BARBARA</th>\n",
       "      <th>ELIZABETH</th>\n",
       "      <th>JENNIFER</th>\n",
       "      <th>MARIA</th>\n",
       "      <th>SUSAN</th>\n",
       "      <th>MARGARET</th>\n",
       "      <th>DOROTHY</th>\n",
       "      <th>...</th>\n",
       "      <th>VINCENZO</th>\n",
       "      <th>SHON</th>\n",
       "      <th>LYNWOOD</th>\n",
       "      <th>JERE</th>\n",
       "      <th>HAI</th>\n",
       "      <th>ELDEN</th>\n",
       "      <th>DORSEY</th>\n",
       "      <th>DARELL</th>\n",
       "      <th>BRODERICK</th>\n",
       "      <th>ALONSO</th>\n",
       "    </tr>\n",
       "  </thead>\n",
       "  <tbody>\n",
       "  </tbody>\n",
       "</table>\n",
       "<p>0 rows × 5165 columns</p>\n",
       "</div>"
      ],
      "text/plain": [
       "Empty DataFrame\n",
       "Columns: [MARY, PATRICIA, LINDA, BARBARA, ELIZABETH, JENNIFER, MARIA, SUSAN, MARGARET, DOROTHY, LISA, NANCY, KAREN, BETTY, HELEN, SANDRA, DONNA, CAROL, RUTH, SHARON, MICHELLE, LAURA, SARAH, KIMBERLY, DEBORAH, JESSICA, SHIRLEY, CYNTHIA, ANGELA, MELISSA, BRENDA, AMY, ANNA, REBECCA, VIRGINIA, KATHLEEN, PAMELA, MARTHA, DEBRA, AMANDA, STEPHANIE, CAROLYN, CHRISTINE, MARIE, JANET, CATHERINE, FRANCES, ANN, JOYCE, DIANE, ALICE, JULIE, HEATHER, TERESA, DORIS, GLORIA, EVELYN, JEAN, CHERYL, MILDRED, KATHERINE, JOAN, ASHLEY, JUDITH, ROSE, JANICE, KELLY, NICOLE, JUDY, CHRISTINA, KATHY, THERESA, BEVERLY, DENISE, TAMMY, IRENE, JANE, LORI, RACHEL, MARILYN, ANDREA, KATHRYN, LOUISE, SARA, ANNE, JACQUELINE, WANDA, BONNIE, JULIA, RUBY, LOIS, TINA, PHYLLIS, NORMA, PAULA, DIANA, ANNIE, LILLIAN, EMILY, ROBIN, ...]\n",
       "Index: []\n",
       "\n",
       "[0 rows x 5165 columns]"
      ]
     },
     "execution_count": 4,
     "metadata": {},
     "output_type": "execute_result"
    }
   ],
   "source": [
    "data"
   ]
  },
  {
   "cell_type": "code",
   "execution_count": 9,
   "metadata": {},
   "outputs": [],
   "source": [
    "names = sorted(data)"
   ]
  },
  {
   "cell_type": "code",
   "execution_count": 17,
   "metadata": {},
   "outputs": [
    {
     "data": {
      "text/plain": [
       "'AARON'"
      ]
     },
     "execution_count": 17,
     "metadata": {},
     "output_type": "execute_result"
    }
   ],
   "source": [
    "names[0]"
   ]
  },
  {
   "cell_type": "code",
   "execution_count": 28,
   "metadata": {},
   "outputs": [],
   "source": [
    "char2number = {letter: value for letter, value in zip(string.ascii_uppercase, range(1, 27))}"
   ]
  },
  {
   "cell_type": "code",
   "execution_count": 29,
   "metadata": {},
   "outputs": [
    {
     "data": {
      "text/plain": [
       "{'A': 1,\n",
       " 'B': 2,\n",
       " 'C': 3,\n",
       " 'D': 4,\n",
       " 'E': 5,\n",
       " 'F': 6,\n",
       " 'G': 7,\n",
       " 'H': 8,\n",
       " 'I': 9,\n",
       " 'J': 10,\n",
       " 'K': 11,\n",
       " 'L': 12,\n",
       " 'M': 13,\n",
       " 'N': 14,\n",
       " 'O': 15,\n",
       " 'P': 16,\n",
       " 'Q': 17,\n",
       " 'R': 18,\n",
       " 'S': 19,\n",
       " 'T': 20,\n",
       " 'U': 21,\n",
       " 'V': 22,\n",
       " 'W': 23,\n",
       " 'X': 24,\n",
       " 'Y': 25,\n",
       " 'Z': 26}"
      ]
     },
     "execution_count": 29,
     "metadata": {},
     "output_type": "execute_result"
    }
   ],
   "source": [
    "char2number"
   ]
  },
  {
   "cell_type": "code",
   "execution_count": 33,
   "metadata": {},
   "outputs": [],
   "source": [
    "result = 0\n",
    "\n",
    "for i, name in enumerate(names, 1):\n",
    "    alph_sum = 0\n",
    "    \n",
    "    for char in name:\n",
    "        alph_sum += char2number[char]\n",
    "        \n",
    "    result += alph_sum * i"
   ]
  },
  {
   "cell_type": "code",
   "execution_count": 31,
   "metadata": {},
   "outputs": [
    {
     "data": {
      "text/plain": [
       "871853874"
      ]
     },
     "execution_count": 31,
     "metadata": {},
     "output_type": "execute_result"
    }
   ],
   "source": [
    "result"
   ]
  }
 ],
 "metadata": {
  "kernelspec": {
   "display_name": "Python 3",
   "language": "python",
   "name": "python3"
  },
  "language_info": {
   "codemirror_mode": {
    "name": "ipython",
    "version": 3
   },
   "file_extension": ".py",
   "mimetype": "text/x-python",
   "name": "python",
   "nbconvert_exporter": "python",
   "pygments_lexer": "ipython3",
   "version": "3.7.4"
  }
 },
 "nbformat": 4,
 "nbformat_minor": 2
}
